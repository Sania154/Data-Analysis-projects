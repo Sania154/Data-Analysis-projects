{
 "cells": [
  {
   "cell_type": "markdown",
   "id": "51483051",
   "metadata": {},
   "source": [
    "# String Operation,Comparison and Information "
   ]
  },
  {
   "cell_type": "code",
   "execution_count": 1,
   "id": "3b47d0c5",
   "metadata": {},
   "outputs": [],
   "source": [
    "import numpy as np"
   ]
  },
  {
   "cell_type": "markdown",
   "id": "c94b9fd2",
   "metadata": {},
   "source": [
    "# String Operation"
   ]
  },
  {
   "cell_type": "code",
   "execution_count": 2,
   "id": "8568a641",
   "metadata": {},
   "outputs": [],
   "source": [
    "ch_name=\"Indin AI Production\"\n",
    "str1=\"Learning Python NumPy\""
   ]
  },
  {
   "cell_type": "code",
   "execution_count": 3,
   "id": "05a1c258",
   "metadata": {},
   "outputs": [
    {
     "data": {
      "text/plain": [
       "array('Indin AI ProductionLearning Python NumPy', dtype='<U40')"
      ]
     },
     "execution_count": 3,
     "metadata": {},
     "output_type": "execute_result"
    }
   ],
   "source": [
    "np.char.add(ch_name,str1)"
   ]
  },
  {
   "cell_type": "markdown",
   "id": "16257977",
   "metadata": {},
   "source": [
    "# lower()"
   ]
  },
  {
   "cell_type": "code",
   "execution_count": 4,
   "id": "fffcf33b",
   "metadata": {},
   "outputs": [
    {
     "data": {
      "text/plain": [
       "array('indin ai production', dtype='<U19')"
      ]
     },
     "execution_count": 4,
     "metadata": {},
     "output_type": "execute_result"
    }
   ],
   "source": [
    "np.char.lower(ch_name)"
   ]
  },
  {
   "cell_type": "markdown",
   "id": "ee8bf702",
   "metadata": {},
   "source": [
    "# upper()"
   ]
  },
  {
   "cell_type": "code",
   "execution_count": 5,
   "id": "5517acaf",
   "metadata": {},
   "outputs": [
    {
     "data": {
      "text/plain": [
       "array('INDIN AI PRODUCTION', dtype='<U19')"
      ]
     },
     "execution_count": 5,
     "metadata": {},
     "output_type": "execute_result"
    }
   ],
   "source": [
    "np.char.upper(ch_name)"
   ]
  },
  {
   "cell_type": "markdown",
   "id": "9d60f9a5",
   "metadata": {},
   "source": [
    "# title()"
   ]
  },
  {
   "cell_type": "code",
   "execution_count": 6,
   "id": "0dabf87f",
   "metadata": {},
   "outputs": [
    {
     "data": {
      "text/plain": [
       "array('Indin Ai Production', dtype='<U19')"
      ]
     },
     "execution_count": 6,
     "metadata": {},
     "output_type": "execute_result"
    }
   ],
   "source": [
    "np.char.title(ch_name)"
   ]
  },
  {
   "cell_type": "markdown",
   "id": "cb32b7e4",
   "metadata": {},
   "source": [
    "# center()"
   ]
  },
  {
   "cell_type": "code",
   "execution_count": 7,
   "id": "eb6affe2",
   "metadata": {},
   "outputs": [
    {
     "data": {
      "text/plain": [
       "array('                    Indin AI Production                     ',\n",
       "      dtype='<U60')"
      ]
     },
     "execution_count": 7,
     "metadata": {},
     "output_type": "execute_result"
    }
   ],
   "source": [
    "np.char.center(ch_name,60)"
   ]
  },
  {
   "cell_type": "code",
   "execution_count": 8,
   "id": "9925d4f0",
   "metadata": {},
   "outputs": [
    {
     "data": {
      "text/plain": [
       "array('********************Indin AI Production*********************',\n",
       "      dtype='<U60')"
      ]
     },
     "execution_count": 8,
     "metadata": {},
     "output_type": "execute_result"
    }
   ],
   "source": [
    "np.char.center(ch_name,60,fillchar=\"*\")"
   ]
  },
  {
   "cell_type": "code",
   "execution_count": 9,
   "id": "ac0a7066",
   "metadata": {},
   "outputs": [
    {
     "data": {
      "text/plain": [
       "array('####################Indin AI Production#####################',\n",
       "      dtype='<U60')"
      ]
     },
     "execution_count": 9,
     "metadata": {},
     "output_type": "execute_result"
    }
   ],
   "source": [
    "np.char.center(ch_name,60,fillchar=\"#\")"
   ]
  },
  {
   "cell_type": "markdown",
   "id": "245aaf35",
   "metadata": {},
   "source": [
    "# Split()"
   ]
  },
  {
   "cell_type": "code",
   "execution_count": 10,
   "id": "9a36a207",
   "metadata": {},
   "outputs": [
    {
     "data": {
      "text/plain": [
       "array(list(['Indin', 'AI', 'Production']), dtype=object)"
      ]
     },
     "execution_count": 10,
     "metadata": {},
     "output_type": "execute_result"
    }
   ],
   "source": [
    "np.char.split(ch_name)"
   ]
  },
  {
   "cell_type": "markdown",
   "id": "0e663765",
   "metadata": {},
   "source": [
    "# splitlines()"
   ]
  },
  {
   "cell_type": "code",
   "execution_count": 11,
   "id": "cb0bec04",
   "metadata": {},
   "outputs": [
    {
     "data": {
      "text/plain": [
       "array(list(['hello', 'pakistan']), dtype=object)"
      ]
     },
     "execution_count": 11,
     "metadata": {},
     "output_type": "execute_result"
    }
   ],
   "source": [
    "np.char.splitlines(\"hello\\npakistan\")"
   ]
  },
  {
   "cell_type": "markdown",
   "id": "870b4560",
   "metadata": {},
   "source": [
    "# join()"
   ]
  },
  {
   "cell_type": "code",
   "execution_count": 12,
   "id": "86764db4",
   "metadata": {},
   "outputs": [],
   "source": [
    "str3=\"dmy\"\n",
    "str4=\"dmy\""
   ]
  },
  {
   "cell_type": "code",
   "execution_count": 14,
   "id": "34301c02",
   "metadata": {},
   "outputs": [
    {
     "name": "stdout",
     "output_type": "stream",
     "text": [
      "['d:m:y' 'd/m/y']\n"
     ]
    }
   ],
   "source": [
    "w1=np.char.join([\":\",\"/\"],[str3,str4])\n",
    "print(w1)"
   ]
  },
  {
   "cell_type": "markdown",
   "id": "01adb9de",
   "metadata": {},
   "source": [
    "# replace()"
   ]
  },
  {
   "cell_type": "code",
   "execution_count": 16,
   "id": "50eed56e",
   "metadata": {},
   "outputs": [
    {
     "name": "stdout",
     "output_type": "stream",
     "text": [
      "Indin Artificial Intelligence Production\n"
     ]
    }
   ],
   "source": [
    "w2=np.char.replace(ch_name,\"AI\",\"Artificial Intelligence\")\n",
    "print(w2)"
   ]
  },
  {
   "cell_type": "markdown",
   "id": "e8b3b161",
   "metadata": {},
   "source": [
    "# sting comparison"
   ]
  },
  {
   "cell_type": "code",
   "execution_count": 17,
   "id": "bd21bbea",
   "metadata": {},
   "outputs": [
    {
     "data": {
      "text/plain": [
       "array(True)"
      ]
     },
     "execution_count": 17,
     "metadata": {},
     "output_type": "execute_result"
    }
   ],
   "source": [
    "np.char.equal(str3,str4)"
   ]
  },
  {
   "cell_type": "markdown",
   "id": "2b9faf4d",
   "metadata": {},
   "source": [
    "# string information"
   ]
  },
  {
   "cell_type": "code",
   "execution_count": 19,
   "id": "4fcd860d",
   "metadata": {},
   "outputs": [
    {
     "data": {
      "text/plain": [
       "array(1)"
      ]
     },
     "execution_count": 19,
     "metadata": {},
     "output_type": "execute_result"
    }
   ],
   "source": [
    "np.char.count(ch_name,\"A\")"
   ]
  },
  {
   "cell_type": "code",
   "execution_count": 20,
   "id": "1c23ac46",
   "metadata": {},
   "outputs": [
    {
     "data": {
      "text/plain": [
       "'Learning Python NumPy'"
      ]
     },
     "execution_count": 20,
     "metadata": {},
     "output_type": "execute_result"
    }
   ],
   "source": [
    "str1"
   ]
  },
  {
   "cell_type": "code",
   "execution_count": 21,
   "id": "375af4ca",
   "metadata": {},
   "outputs": [
    {
     "data": {
      "text/plain": [
       "array(1)"
      ]
     },
     "execution_count": 21,
     "metadata": {},
     "output_type": "execute_result"
    }
   ],
   "source": [
    "np.char.count(str1,\"a\")"
   ]
  },
  {
   "cell_type": "code",
   "execution_count": 24,
   "id": "25aaeec2",
   "metadata": {},
   "outputs": [
    {
     "data": {
      "text/plain": [
       "array(6)"
      ]
     },
     "execution_count": 24,
     "metadata": {},
     "output_type": "execute_result"
    }
   ],
   "source": [
    "np.char.find(ch_name,\"AI\")"
   ]
  },
  {
   "cell_type": "code",
   "execution_count": null,
   "id": "8919c692",
   "metadata": {},
   "outputs": [],
   "source": []
  }
 ],
 "metadata": {
  "kernelspec": {
   "display_name": "Python 3 (ipykernel)",
   "language": "python",
   "name": "python3"
  },
  "language_info": {
   "codemirror_mode": {
    "name": "ipython",
    "version": 3
   },
   "file_extension": ".py",
   "mimetype": "text/x-python",
   "name": "python",
   "nbconvert_exporter": "python",
   "pygments_lexer": "ipython3",
   "version": "3.10.9"
  }
 },
 "nbformat": 4,
 "nbformat_minor": 5
}
