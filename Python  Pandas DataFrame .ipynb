{
 "cells": [
  {
   "cell_type": "markdown",
   "id": "a16041ca",
   "metadata": {},
   "source": [
    "# How to create pandas DataFrame"
   ]
  },
  {
   "cell_type": "code",
   "execution_count": 1,
   "id": "516525ce",
   "metadata": {},
   "outputs": [],
   "source": [
    "import pandas as pd"
   ]
  },
  {
   "cell_type": "code",
   "execution_count": 2,
   "id": "f12beb0c",
   "metadata": {},
   "outputs": [
    {
     "name": "stdout",
     "output_type": "stream",
     "text": [
      "Empty DataFrame\n",
      "Columns: []\n",
      "Index: []\n"
     ]
    }
   ],
   "source": [
    "emp_df=pd.DataFrame()\n",
    "print(emp_df)"
   ]
  },
  {
   "cell_type": "markdown",
   "id": "a7e0a375",
   "metadata": {},
   "source": [
    "# Datafrme created by List"
   ]
  },
  {
   "cell_type": "code",
   "execution_count": 3,
   "id": "cff2391d",
   "metadata": {},
   "outputs": [
    {
     "name": "stdout",
     "output_type": "stream",
     "text": [
      "['a', 'b', 'c']\n"
     ]
    }
   ],
   "source": [
    "list=[\"a\",\"b\",\"c\"]\n",
    "print(list)"
   ]
  },
  {
   "cell_type": "code",
   "execution_count": 4,
   "id": "767071b0",
   "metadata": {},
   "outputs": [
    {
     "name": "stdout",
     "output_type": "stream",
     "text": [
      "   0\n",
      "0  a\n",
      "1  b\n",
      "2  c\n"
     ]
    }
   ],
   "source": [
    "df1=pd.DataFrame(list)\n",
    "print(df1)"
   ]
  },
  {
   "cell_type": "code",
   "execution_count": 5,
   "id": "8f23aad8",
   "metadata": {},
   "outputs": [
    {
     "data": {
      "text/html": [
       "<div>\n",
       "<style scoped>\n",
       "    .dataframe tbody tr th:only-of-type {\n",
       "        vertical-align: middle;\n",
       "    }\n",
       "\n",
       "    .dataframe tbody tr th {\n",
       "        vertical-align: top;\n",
       "    }\n",
       "\n",
       "    .dataframe thead th {\n",
       "        text-align: right;\n",
       "    }\n",
       "</style>\n",
       "<table border=\"1\" class=\"dataframe\">\n",
       "  <thead>\n",
       "    <tr style=\"text-align: right;\">\n",
       "      <th></th>\n",
       "      <th>0</th>\n",
       "    </tr>\n",
       "  </thead>\n",
       "  <tbody>\n",
       "    <tr>\n",
       "      <th>0</th>\n",
       "      <td>a</td>\n",
       "    </tr>\n",
       "    <tr>\n",
       "      <th>1</th>\n",
       "      <td>b</td>\n",
       "    </tr>\n",
       "    <tr>\n",
       "      <th>2</th>\n",
       "      <td>c</td>\n",
       "    </tr>\n",
       "  </tbody>\n",
       "</table>\n",
       "</div>"
      ],
      "text/plain": [
       "   0\n",
       "0  a\n",
       "1  b\n",
       "2  c"
      ]
     },
     "execution_count": 5,
     "metadata": {},
     "output_type": "execute_result"
    }
   ],
   "source": [
    "df1"
   ]
  },
  {
   "cell_type": "markdown",
   "id": "e714e4e1",
   "metadata": {},
   "source": [
    "# DataFrame created by list of list"
   ]
  },
  {
   "cell_type": "code",
   "execution_count": 6,
   "id": "835aaec2",
   "metadata": {},
   "outputs": [
    {
     "name": "stdout",
     "output_type": "stream",
     "text": [
      "([1, 2, 3, 4], [4, 5, 6, 7], [7, 8, 9, 2], [0, 2, 4, 6])\n"
     ]
    }
   ],
   "source": [
    "lis_of_lis=([1,2,3,4],[4,5,6,7],[7,8,9,2],[0,2,4,6])\n",
    "print(lis_of_lis)"
   ]
  },
  {
   "cell_type": "code",
   "execution_count": 7,
   "id": "f515b4a1",
   "metadata": {},
   "outputs": [
    {
     "name": "stdout",
     "output_type": "stream",
     "text": [
      "   0  1  2  3\n",
      "0  1  2  3  4\n",
      "1  4  5  6  7\n",
      "2  7  8  9  2\n",
      "3  0  2  4  6\n"
     ]
    }
   ],
   "source": [
    "df2=pd.DataFrame(lis_of_lis)\n",
    "print(df2)"
   ]
  },
  {
   "cell_type": "markdown",
   "id": "68037de7",
   "metadata": {},
   "source": [
    "# DF created by dictionary"
   ]
  },
  {
   "cell_type": "code",
   "execution_count": 8,
   "id": "a3d20c2d",
   "metadata": {},
   "outputs": [
    {
     "name": "stdout",
     "output_type": "stream",
     "text": [
      "{'ID': [1, 2, 3, 4]}\n"
     ]
    }
   ],
   "source": [
    "dict1={\"ID\":[1,2,3,4]}\n",
    "print(dict1)"
   ]
  },
  {
   "cell_type": "code",
   "execution_count": 9,
   "id": "9bf00538",
   "metadata": {},
   "outputs": [
    {
     "name": "stdout",
     "output_type": "stream",
     "text": [
      "   ID\n",
      "0   1\n",
      "1   2\n",
      "2   3\n",
      "3   4\n"
     ]
    }
   ],
   "source": [
    "dict=pd.DataFrame(dict1)\n",
    "print(dict)"
   ]
  },
  {
   "cell_type": "code",
   "execution_count": 10,
   "id": "23a65e39",
   "metadata": {},
   "outputs": [
    {
     "name": "stdout",
     "output_type": "stream",
     "text": [
      "{'ID': [1, 2, 3, 4]}\n"
     ]
    }
   ],
   "source": [
    "dict1={\"ID\":[1,2,3,4],}\n",
    "print(dict1)"
   ]
  },
  {
   "cell_type": "markdown",
   "id": "2933a9c3",
   "metadata": {},
   "source": [
    "# DF.created by lists of dictionary"
   ]
  },
  {
   "cell_type": "code",
   "execution_count": 12,
   "id": "43833423",
   "metadata": {},
   "outputs": [
    {
     "name": "stdout",
     "output_type": "stream",
     "text": [
      "{'ID': [1, 2, 3, 4], 'SN': [5, 7, 8, 9]}\n"
     ]
    }
   ],
   "source": [
    "dict1={\"ID\":[1,2,3,4],\"SN\":[5,7,8,9]}\n",
    "print(dict1)"
   ]
  },
  {
   "cell_type": "code",
   "execution_count": 13,
   "id": "199411cd",
   "metadata": {},
   "outputs": [
    {
     "name": "stdout",
     "output_type": "stream",
     "text": [
      "   ID  SN\n",
      "0   1   5\n",
      "1   2   7\n",
      "2   3   8\n",
      "3   4   9\n"
     ]
    }
   ],
   "source": [
    "df3=pd.DataFrame(dict1)\n",
    "print(df3)"
   ]
  },
  {
   "cell_type": "code",
   "execution_count": 20,
   "id": "344c52d3",
   "metadata": {},
   "outputs": [
    {
     "name": "stdout",
     "output_type": "stream",
     "text": [
      "[{'a': 1, 'b': 2}, {'a': 4, 'b': 5}]\n"
     ]
    }
   ],
   "source": [
    "dic=[{\"a\":1,\"b\":2},{\"a\":4,\"b\":5}]\n",
    "print(dic)"
   ]
  },
  {
   "cell_type": "code",
   "execution_count": 21,
   "id": "38c6a363",
   "metadata": {},
   "outputs": [
    {
     "name": "stdout",
     "output_type": "stream",
     "text": [
      "   a  b\n",
      "0  1  2\n",
      "1  4  5\n"
     ]
    }
   ],
   "source": [
    "df4=pd.DataFrame(dic)\n",
    "print(df4)"
   ]
  },
  {
   "cell_type": "code",
   "execution_count": 22,
   "id": "0fdc8cf9",
   "metadata": {},
   "outputs": [
    {
     "name": "stdout",
     "output_type": "stream",
     "text": [
      "[{'a': 1, 'b': 2}, {'a': 4, 'b': 5, 'c': 6}]\n"
     ]
    }
   ],
   "source": [
    "dic=[{\"a\":1,\"b\":2},{\"a\":4,\"b\":5,\"c\":6}]\n",
    "print(dic)"
   ]
  },
  {
   "cell_type": "code",
   "execution_count": 23,
   "id": "a08dfb46",
   "metadata": {},
   "outputs": [
    {
     "name": "stdout",
     "output_type": "stream",
     "text": [
      "   a  b    c\n",
      "0  1  2  NaN\n",
      "1  4  5  6.0\n"
     ]
    }
   ],
   "source": [
    "df4=pd.DataFrame(dic)\n",
    "print(df4)"
   ]
  },
  {
   "cell_type": "markdown",
   "id": "681eec33",
   "metadata": {},
   "source": [
    "# DF.created by dictionary of series"
   ]
  },
  {
   "cell_type": "code",
   "execution_count": 25,
   "id": "776c9c17",
   "metadata": {},
   "outputs": [
    {
     "name": "stdout",
     "output_type": "stream",
     "text": [
      "{'ID': 0    1\n",
      "1    2\n",
      "2    3\n",
      "3    4\n",
      "dtype: int64, 'SN': 0    3\n",
      "1    6\n",
      "2    7\n",
      "3    8\n",
      "4    2\n",
      "dtype: int64}\n"
     ]
    }
   ],
   "source": [
    "dic_s={\"ID\":pd.Series([1,2,3,4]),\"SN\":pd.Series([3,6,7,8,2])}\n",
    "print(dic_s)"
   ]
  },
  {
   "cell_type": "code",
   "execution_count": 26,
   "id": "d92b9f34",
   "metadata": {},
   "outputs": [
    {
     "name": "stdout",
     "output_type": "stream",
     "text": [
      "    ID  SN\n",
      "0  1.0   3\n",
      "1  2.0   6\n",
      "2  3.0   7\n",
      "3  4.0   8\n",
      "4  NaN   2\n"
     ]
    }
   ],
   "source": [
    "df5=pd.DataFrame(dic_s)\n",
    "print(df5)"
   ]
  },
  {
   "cell_type": "code",
   "execution_count": null,
   "id": "27aefc75",
   "metadata": {},
   "outputs": [],
   "source": []
  }
 ],
 "metadata": {
  "kernelspec": {
   "display_name": "Python 3 (ipykernel)",
   "language": "python",
   "name": "python3"
  },
  "language_info": {
   "codemirror_mode": {
    "name": "ipython",
    "version": 3
   },
   "file_extension": ".py",
   "mimetype": "text/x-python",
   "name": "python",
   "nbconvert_exporter": "python",
   "pygments_lexer": "ipython3",
   "version": "3.10.9"
  }
 },
 "nbformat": 4,
 "nbformat_minor": 5
}
